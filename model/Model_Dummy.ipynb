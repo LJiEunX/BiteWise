{
  "nbformat": 4,
  "nbformat_minor": 0,
  "metadata": {
    "colab": {
      "provenance": []
    },
    "kernelspec": {
      "name": "python3",
      "display_name": "Python 3"
    },
    "language_info": {
      "name": "python"
    }
  },
  "cells": [
    {
      "cell_type": "code",
      "execution_count": 1,
      "metadata": {
        "id": "JX2E2ybIJ9vG",
        "colab": {
          "base_uri": "https://localhost:8080/",
          "height": 73
        },
        "outputId": "22e75d69-06c4-4ee0-ba4a-9e4d9e6be52c"
      },
      "outputs": [
        {
          "output_type": "display_data",
          "data": {
            "text/plain": [
              "<IPython.core.display.HTML object>"
            ],
            "text/html": [
              "\n",
              "     <input type=\"file\" id=\"files-57898dd7-3e43-4d19-9259-58bf77848183\" name=\"files[]\" multiple disabled\n",
              "        style=\"border:none\" />\n",
              "     <output id=\"result-57898dd7-3e43-4d19-9259-58bf77848183\">\n",
              "      Upload widget is only available when the cell has been executed in the\n",
              "      current browser session. Please rerun this cell to enable.\n",
              "      </output>\n",
              "      <script>// Copyright 2017 Google LLC\n",
              "//\n",
              "// Licensed under the Apache License, Version 2.0 (the \"License\");\n",
              "// you may not use this file except in compliance with the License.\n",
              "// You may obtain a copy of the License at\n",
              "//\n",
              "//      http://www.apache.org/licenses/LICENSE-2.0\n",
              "//\n",
              "// Unless required by applicable law or agreed to in writing, software\n",
              "// distributed under the License is distributed on an \"AS IS\" BASIS,\n",
              "// WITHOUT WARRANTIES OR CONDITIONS OF ANY KIND, either express or implied.\n",
              "// See the License for the specific language governing permissions and\n",
              "// limitations under the License.\n",
              "\n",
              "/**\n",
              " * @fileoverview Helpers for google.colab Python module.\n",
              " */\n",
              "(function(scope) {\n",
              "function span(text, styleAttributes = {}) {\n",
              "  const element = document.createElement('span');\n",
              "  element.textContent = text;\n",
              "  for (const key of Object.keys(styleAttributes)) {\n",
              "    element.style[key] = styleAttributes[key];\n",
              "  }\n",
              "  return element;\n",
              "}\n",
              "\n",
              "// Max number of bytes which will be uploaded at a time.\n",
              "const MAX_PAYLOAD_SIZE = 100 * 1024;\n",
              "\n",
              "function _uploadFiles(inputId, outputId) {\n",
              "  const steps = uploadFilesStep(inputId, outputId);\n",
              "  const outputElement = document.getElementById(outputId);\n",
              "  // Cache steps on the outputElement to make it available for the next call\n",
              "  // to uploadFilesContinue from Python.\n",
              "  outputElement.steps = steps;\n",
              "\n",
              "  return _uploadFilesContinue(outputId);\n",
              "}\n",
              "\n",
              "// This is roughly an async generator (not supported in the browser yet),\n",
              "// where there are multiple asynchronous steps and the Python side is going\n",
              "// to poll for completion of each step.\n",
              "// This uses a Promise to block the python side on completion of each step,\n",
              "// then passes the result of the previous step as the input to the next step.\n",
              "function _uploadFilesContinue(outputId) {\n",
              "  const outputElement = document.getElementById(outputId);\n",
              "  const steps = outputElement.steps;\n",
              "\n",
              "  const next = steps.next(outputElement.lastPromiseValue);\n",
              "  return Promise.resolve(next.value.promise).then((value) => {\n",
              "    // Cache the last promise value to make it available to the next\n",
              "    // step of the generator.\n",
              "    outputElement.lastPromiseValue = value;\n",
              "    return next.value.response;\n",
              "  });\n",
              "}\n",
              "\n",
              "/**\n",
              " * Generator function which is called between each async step of the upload\n",
              " * process.\n",
              " * @param {string} inputId Element ID of the input file picker element.\n",
              " * @param {string} outputId Element ID of the output display.\n",
              " * @return {!Iterable<!Object>} Iterable of next steps.\n",
              " */\n",
              "function* uploadFilesStep(inputId, outputId) {\n",
              "  const inputElement = document.getElementById(inputId);\n",
              "  inputElement.disabled = false;\n",
              "\n",
              "  const outputElement = document.getElementById(outputId);\n",
              "  outputElement.innerHTML = '';\n",
              "\n",
              "  const pickedPromise = new Promise((resolve) => {\n",
              "    inputElement.addEventListener('change', (e) => {\n",
              "      resolve(e.target.files);\n",
              "    });\n",
              "  });\n",
              "\n",
              "  const cancel = document.createElement('button');\n",
              "  inputElement.parentElement.appendChild(cancel);\n",
              "  cancel.textContent = 'Cancel upload';\n",
              "  const cancelPromise = new Promise((resolve) => {\n",
              "    cancel.onclick = () => {\n",
              "      resolve(null);\n",
              "    };\n",
              "  });\n",
              "\n",
              "  // Wait for the user to pick the files.\n",
              "  const files = yield {\n",
              "    promise: Promise.race([pickedPromise, cancelPromise]),\n",
              "    response: {\n",
              "      action: 'starting',\n",
              "    }\n",
              "  };\n",
              "\n",
              "  cancel.remove();\n",
              "\n",
              "  // Disable the input element since further picks are not allowed.\n",
              "  inputElement.disabled = true;\n",
              "\n",
              "  if (!files) {\n",
              "    return {\n",
              "      response: {\n",
              "        action: 'complete',\n",
              "      }\n",
              "    };\n",
              "  }\n",
              "\n",
              "  for (const file of files) {\n",
              "    const li = document.createElement('li');\n",
              "    li.append(span(file.name, {fontWeight: 'bold'}));\n",
              "    li.append(span(\n",
              "        `(${file.type || 'n/a'}) - ${file.size} bytes, ` +\n",
              "        `last modified: ${\n",
              "            file.lastModifiedDate ? file.lastModifiedDate.toLocaleDateString() :\n",
              "                                    'n/a'} - `));\n",
              "    const percent = span('0% done');\n",
              "    li.appendChild(percent);\n",
              "\n",
              "    outputElement.appendChild(li);\n",
              "\n",
              "    const fileDataPromise = new Promise((resolve) => {\n",
              "      const reader = new FileReader();\n",
              "      reader.onload = (e) => {\n",
              "        resolve(e.target.result);\n",
              "      };\n",
              "      reader.readAsArrayBuffer(file);\n",
              "    });\n",
              "    // Wait for the data to be ready.\n",
              "    let fileData = yield {\n",
              "      promise: fileDataPromise,\n",
              "      response: {\n",
              "        action: 'continue',\n",
              "      }\n",
              "    };\n",
              "\n",
              "    // Use a chunked sending to avoid message size limits. See b/62115660.\n",
              "    let position = 0;\n",
              "    do {\n",
              "      const length = Math.min(fileData.byteLength - position, MAX_PAYLOAD_SIZE);\n",
              "      const chunk = new Uint8Array(fileData, position, length);\n",
              "      position += length;\n",
              "\n",
              "      const base64 = btoa(String.fromCharCode.apply(null, chunk));\n",
              "      yield {\n",
              "        response: {\n",
              "          action: 'append',\n",
              "          file: file.name,\n",
              "          data: base64,\n",
              "        },\n",
              "      };\n",
              "\n",
              "      let percentDone = fileData.byteLength === 0 ?\n",
              "          100 :\n",
              "          Math.round((position / fileData.byteLength) * 100);\n",
              "      percent.textContent = `${percentDone}% done`;\n",
              "\n",
              "    } while (position < fileData.byteLength);\n",
              "  }\n",
              "\n",
              "  // All done.\n",
              "  yield {\n",
              "    response: {\n",
              "      action: 'complete',\n",
              "    }\n",
              "  };\n",
              "}\n",
              "\n",
              "scope.google = scope.google || {};\n",
              "scope.google.colab = scope.google.colab || {};\n",
              "scope.google.colab._files = {\n",
              "  _uploadFiles,\n",
              "  _uploadFilesContinue,\n",
              "};\n",
              "})(self);\n",
              "</script> "
            ]
          },
          "metadata": {}
        },
        {
          "output_type": "stream",
          "name": "stdout",
          "text": [
            "Saving caps_fin.csv to caps_fin.csv\n"
          ]
        }
      ],
      "source": [
        "from google.colab import files\n",
        "uploaded = files.upload()"
      ]
    },
    {
      "cell_type": "code",
      "source": [
        "import os\n",
        "# Menampilkan daftar file di direktori saat ini\n",
        "print(os.listdir())"
      ],
      "metadata": {
        "colab": {
          "base_uri": "https://localhost:8080/"
        },
        "id": "09ewOxdrKZnV",
        "outputId": "857ea0e8-9fbb-431a-acc6-95700283f7a2"
      },
      "execution_count": 2,
      "outputs": [
        {
          "output_type": "stream",
          "name": "stdout",
          "text": [
            "['.config', 'caps_fin.csv', 'sample_data']\n"
          ]
        }
      ]
    },
    {
      "cell_type": "code",
      "source": [
        "import pandas as pd\n",
        "\n",
        "# Muat dataset menggunakan Pandas\n",
        "data = pd.read_csv('caps_fin.csv')\n",
        "\n",
        "# Tampilkan keseluruhan dataset\n",
        "print(data)"
      ],
      "metadata": {
        "colab": {
          "base_uri": "https://localhost:8080/"
        },
        "id": "pbJjRnV_K9S6",
        "outputId": "659cca84-a3b3-4ac0-c4a5-2922f690a148"
      },
      "execution_count": 3,
      "outputs": [
        {
          "output_type": "stream",
          "name": "stdout",
          "text": [
            "                                   Nama Resto  \\\n",
            "0            Soon Fatt Chinese Restaurant JGC   \n",
            "1                  Sambal Bakar Indonesia JGC   \n",
            "2             Shu Guo Yin Xiang Kelapa Gading   \n",
            "3    Layar Seafood Dan Ikan Bakar Sedayu City   \n",
            "4                        Global Bakery Cakung   \n",
            "..                                        ...   \n",
            "534                                 Wing Heng   \n",
            "535                          Demore Bakehouse   \n",
            "536                               Jack & John   \n",
            "537                              Cutt & Grill   \n",
            "538                     Kopi@Kopi Ground Zero   \n",
            "\n",
            "                                                alamat         daerah  \\\n",
            "0    Ruko The Boulevard no. 39, Jl. Jkt Garden City...  Jakarta Timur   \n",
            "1    Ruko Cleon Park Jakarta Garden City, Jl. Jkt G...  Jakarta Timur   \n",
            "2    Old Shanghai Sedayu City, Unit D2, Cakung Bar....  Jakarta Timur   \n",
            "3    RT.8/RW.5, Rawa Terate, Cakung, East Jakarta C...  Jakarta Timur   \n",
            "4    Jl. Tipar Cakung No.2, RT.5/RW.8, Cakung Bar.,...  Jakarta Timur   \n",
            "..                                                 ...            ...   \n",
            "534  Jl. Danau Sunter Utara Blok D1 No. 12  -  13, ...  Jakarta Utara   \n",
            "535  Jl. Kelapa Kopyor Raya Blok CE2 No. 5, Kelapa ...  Jakarta Utara   \n",
            "536  Mal Kelapa Gading 3, Lantai Ground, Gourmet Wa...  Jakarta Utara   \n",
            "537  Batavia PIK Jl. Pantai Indah Kapuk, Pantai Ind...  Jakarta Utara   \n",
            "538  Komplek Ruko Bukit Gading Indah, Blok Q No. 35...  Jakarta Utara   \n",
            "\n",
            "          buka_tutup     jam_buka jam_tutup          harga_semua  harga_awal  \\\n",
            "0    10.00  -  22.00  10:00:00 AM     22.00    50.000  -  75.000       50000   \n",
            "1    10.00  -  24.00  10:00:00 AM     24.00    25.000  -  50.000       25000   \n",
            "2    10.00  -  23.00  10:00:00 AM     23.00   50.000  -  150.000       50000   \n",
            "3    11.00  -  22.00  11:00:00 AM     22.00  100.000  -  200.000      100000   \n",
            "4    06.00  -  23.00  06:00:00 AM     23.00   10.000  -  100.000       10000   \n",
            "..               ...          ...       ...                  ...         ...   \n",
            "534    00.00 - 24.00  12:00:00 AM     24.00   50.000  -  100.000       50000   \n",
            "535  07.00  -  20.00  07:00:00 AM     20.00  100.000  -  200.000      100000   \n",
            "536  10.00  -  22.00  10:00:00 AM     22.00   50.000  -  100.000       50000   \n",
            "537  09.00  -  23.00  09:00:00 AM     23.00  200.000  -  500.000      200000   \n",
            "538  07.00  -  22.00  07:00:00 AM     22.00   50.000  -  100.000       50000   \n",
            "\n",
            "     harga_akhir  rata_rata  rating       telepon      tipe  Unnamed: 13  \\\n",
            "0        75000.0      62500     4.7  8.118890e+08  Restoran          NaN   \n",
            "1        50000.0      37500     4.4  8.138888e+10  Restoran          NaN   \n",
            "2       150000.0     100000     4.8  8.179091e+09  Restoran          NaN   \n",
            "3       200000.0     150000     4.6  2.121056e+09  Restoran          NaN   \n",
            "4       100000.0      55000     4.9  8.777541e+10    Bakery          NaN   \n",
            "..           ...        ...     ...           ...       ...          ...   \n",
            "534     100000.0      75000     4.0  8.118324e+09  Restoran          NaN   \n",
            "535     200000.0     150000     4.2  8.777136e+10      Café          NaN   \n",
            "536     100000.0      75000     4.0  8.118990e+09  Restoran          NaN   \n",
            "537     500000.0     350000     4.4  8.111138e+09  Restoran          NaN   \n",
            "538     100000.0      75000     4.3  8.191352e+10      Café          NaN   \n",
            "\n",
            "                                           Unnamed: 14  \n",
            "0                                                  NaN  \n",
            "1    4.7 4.4 4.8 4.6 4.9 5 4.6 4.4 4.7 4 4.8 4.1 4....  \n",
            "2                                                  NaN  \n",
            "3                                                  NaN  \n",
            "4                                                  NaN  \n",
            "..                                                 ...  \n",
            "534                                                NaN  \n",
            "535                                                NaN  \n",
            "536                                                NaN  \n",
            "537                                                NaN  \n",
            "538                                                NaN  \n",
            "\n",
            "[539 rows x 15 columns]\n"
          ]
        }
      ]
    },
    {
      "cell_type": "code",
      "source": [
        "# Cek missing values\n",
        "print(data.isnull().sum())"
      ],
      "metadata": {
        "colab": {
          "base_uri": "https://localhost:8080/"
        },
        "id": "w2rlfjMtMGgb",
        "outputId": "619d7663-dee3-4de3-efe9-0bc748ad8895"
      },
      "execution_count": 4,
      "outputs": [
        {
          "output_type": "stream",
          "name": "stdout",
          "text": [
            "Nama Resto       0\n",
            "alamat           0\n",
            "daerah           0\n",
            "buka_tutup       0\n",
            "jam_buka         0\n",
            "jam_tutup        2\n",
            "harga_semua      0\n",
            "harga_awal       0\n",
            "harga_akhir      1\n",
            "rata_rata        0\n",
            "rating           0\n",
            "telepon         39\n",
            "tipe             0\n",
            "Unnamed: 13    539\n",
            "Unnamed: 14    538\n",
            "dtype: int64\n"
          ]
        }
      ]
    },
    {
      "cell_type": "code",
      "source": [
        "from sklearn.preprocessing import LabelEncoder\n",
        "\n",
        "label_encoders = {}\n",
        "categorical_columns = ['daerah', 'harga_semua', 'tipe']\n",
        "\n",
        "for col in categorical_columns:\n",
        "    le = LabelEncoder()\n",
        "    data[col] = le.fit_transform(data[col])\n",
        "    label_encoders[col] = le\n"
      ],
      "metadata": {
        "id": "580uYTaWMM3x"
      },
      "execution_count": 6,
      "outputs": []
    },
    {
      "cell_type": "code",
      "source": [
        "from sklearn.preprocessing import MinMaxScaler\n",
        "\n",
        "scaler = MinMaxScaler()\n",
        "data[['rating']] = scaler.fit_transform(data[['rating']])"
      ],
      "metadata": {
        "id": "DILPpS2EMQ7I"
      },
      "execution_count": 7,
      "outputs": []
    },
    {
      "cell_type": "code",
      "source": [
        "from sklearn.model_selection import train_test_split\n",
        "\n",
        "# Pilih fitur yang akan digunakan untuk rekomendasi\n",
        "features = ['daerah', 'harga_semua', 'rating', 'tipe']\n",
        "\n",
        "# Split data into train and remaining (validation + test)\n",
        "train_data, remaining_data = train_test_split(data, test_size=0.3, random_state=42)\n",
        "\n",
        "# Split remaining data into validation and test\n",
        "validation_data, test_data = train_test_split(remaining_data, test_size=0.5, random_state=42)\n",
        "\n",
        "# Print shapes to verify\n",
        "print(f\"Train Data: {train_data.shape}\")\n",
        "print(f\"Validation Data: {validation_data.shape}\")\n",
        "print(f\"Test Data: {test_data.shape}\")"
      ],
      "metadata": {
        "colab": {
          "base_uri": "https://localhost:8080/"
        },
        "id": "xSAcXu9WMTZl",
        "outputId": "13495710-834c-4925-de18-1b056a142223"
      },
      "execution_count": 8,
      "outputs": [
        {
          "output_type": "stream",
          "name": "stdout",
          "text": [
            "Train Data: (377, 15)\n",
            "Validation Data: (81, 15)\n",
            "Test Data: (81, 15)\n"
          ]
        }
      ]
    },
    {
      "cell_type": "code",
      "source": [
        "import tensorflow as tf\n",
        "from tensorflow.keras.layers import Input, Dense\n",
        "from tensorflow.keras.models import Model\n",
        "\n",
        "# Input dimension based on features\n",
        "input_dim = len(features)\n",
        "\n",
        "# Input layer\n",
        "input_layer = Input(shape=(input_dim,))\n",
        "\n",
        "# Encoder\n",
        "encoded = Dense(128, activation='relu')(input_layer)\n",
        "encoded = Dense(64, activation='relu')(encoded)\n",
        "encoded = Dense(32, activation='relu')(encoded)\n",
        "\n",
        "# Latent representation\n",
        "latent = Dense(16, activation='relu')(encoded)\n",
        "\n",
        "# Decoder\n",
        "decoded = Dense(32, activation='relu')(latent)\n",
        "decoded = Dense(64, activation='relu')(decoded)\n",
        "decoded = Dense(128, activation='relu')(decoded)\n",
        "output_layer = Dense(input_dim, activation='sigmoid')(decoded)\n",
        "\n",
        "# Model\n",
        "autoencoder = Model(input_layer, output_layer)\n",
        "autoencoder.compile(optimizer='adam', loss='mse')\n",
        "\n",
        "# Ringkasan model\n",
        "autoencoder.summary()"
      ],
      "metadata": {
        "colab": {
          "base_uri": "https://localhost:8080/"
        },
        "id": "VCnfSjfVMbGx",
        "outputId": "52ce0c7f-0f88-4c77-81ca-eb62c6970936"
      },
      "execution_count": 9,
      "outputs": [
        {
          "output_type": "stream",
          "name": "stdout",
          "text": [
            "Model: \"model\"\n",
            "_________________________________________________________________\n",
            " Layer (type)                Output Shape              Param #   \n",
            "=================================================================\n",
            " input_1 (InputLayer)        [(None, 4)]               0         \n",
            "                                                                 \n",
            " dense (Dense)               (None, 128)               640       \n",
            "                                                                 \n",
            " dense_1 (Dense)             (None, 64)                8256      \n",
            "                                                                 \n",
            " dense_2 (Dense)             (None, 32)                2080      \n",
            "                                                                 \n",
            " dense_3 (Dense)             (None, 16)                528       \n",
            "                                                                 \n",
            " dense_4 (Dense)             (None, 32)                544       \n",
            "                                                                 \n",
            " dense_5 (Dense)             (None, 64)                2112      \n",
            "                                                                 \n",
            " dense_6 (Dense)             (None, 128)               8320      \n",
            "                                                                 \n",
            " dense_7 (Dense)             (None, 4)                 516       \n",
            "                                                                 \n",
            "=================================================================\n",
            "Total params: 22996 (89.83 KB)\n",
            "Trainable params: 22996 (89.83 KB)\n",
            "Non-trainable params: 0 (0.00 Byte)\n",
            "_________________________________________________________________\n"
          ]
        }
      ]
    },
    {
      "cell_type": "code",
      "source": [
        "# Extract feature values\n",
        "train_features = train_data[features].values\n",
        "validation_features = validation_data[features].values\n",
        "test_features = test_data[features].values\n",
        "\n",
        "# Train the model\n",
        "history = autoencoder.fit(train_features, train_features,\n",
        "                          epochs=50,\n",
        "                          batch_size=32,\n",
        "                          validation_data=(validation_features, validation_features))"
      ],
      "metadata": {
        "colab": {
          "base_uri": "https://localhost:8080/"
        },
        "id": "cZKea90fMg8B",
        "outputId": "3f42b585-b499-4ad8-e20b-6bcbdab19454"
      },
      "execution_count": 10,
      "outputs": [
        {
          "output_type": "stream",
          "name": "stdout",
          "text": [
            "Epoch 1/50\n",
            "12/12 [==============================] - 2s 26ms/step - loss: 101.3347 - val_loss: 86.3594\n",
            "Epoch 2/50\n",
            "12/12 [==============================] - 0s 7ms/step - loss: 99.6629 - val_loss: 86.0118\n",
            "Epoch 3/50\n",
            "12/12 [==============================] - 0s 8ms/step - loss: 99.5094 - val_loss: 85.9689\n",
            "Epoch 4/50\n",
            "12/12 [==============================] - 0s 8ms/step - loss: 99.4876 - val_loss: 85.9653\n",
            "Epoch 5/50\n",
            "12/12 [==============================] - 0s 6ms/step - loss: 99.4849 - val_loss: 85.9647\n",
            "Epoch 6/50\n",
            "12/12 [==============================] - 0s 7ms/step - loss: 99.4843 - val_loss: 85.9654\n",
            "Epoch 7/50\n",
            "12/12 [==============================] - 0s 6ms/step - loss: 99.4841 - val_loss: 85.9645\n",
            "Epoch 8/50\n",
            "12/12 [==============================] - 0s 8ms/step - loss: 99.4839 - val_loss: 85.9647\n",
            "Epoch 9/50\n",
            "12/12 [==============================] - 0s 7ms/step - loss: 99.4837 - val_loss: 85.9641\n",
            "Epoch 10/50\n",
            "12/12 [==============================] - 0s 8ms/step - loss: 99.4835 - val_loss: 85.9638\n",
            "Epoch 11/50\n",
            "12/12 [==============================] - 0s 6ms/step - loss: 99.4834 - val_loss: 85.9636\n",
            "Epoch 12/50\n",
            "12/12 [==============================] - 0s 6ms/step - loss: 99.4830 - val_loss: 85.9638\n",
            "Epoch 13/50\n",
            "12/12 [==============================] - 0s 6ms/step - loss: 99.4828 - val_loss: 85.9636\n",
            "Epoch 14/50\n",
            "12/12 [==============================] - 0s 9ms/step - loss: 99.4827 - val_loss: 85.9632\n",
            "Epoch 15/50\n",
            "12/12 [==============================] - 0s 12ms/step - loss: 99.4828 - val_loss: 85.9633\n",
            "Epoch 16/50\n",
            "12/12 [==============================] - 0s 11ms/step - loss: 99.4830 - val_loss: 85.9631\n",
            "Epoch 17/50\n",
            "12/12 [==============================] - 0s 9ms/step - loss: 99.4827 - val_loss: 85.9633\n",
            "Epoch 18/50\n",
            "12/12 [==============================] - 0s 8ms/step - loss: 99.4830 - val_loss: 85.9631\n",
            "Epoch 19/50\n",
            "12/12 [==============================] - 0s 10ms/step - loss: 99.4829 - val_loss: 85.9630\n",
            "Epoch 20/50\n",
            "12/12 [==============================] - 0s 10ms/step - loss: 99.4825 - val_loss: 85.9631\n",
            "Epoch 21/50\n",
            "12/12 [==============================] - 0s 7ms/step - loss: 99.4824 - val_loss: 85.9629\n",
            "Epoch 22/50\n",
            "12/12 [==============================] - 0s 8ms/step - loss: 99.4824 - val_loss: 85.9634\n",
            "Epoch 23/50\n",
            "12/12 [==============================] - 0s 8ms/step - loss: 99.4824 - val_loss: 85.9628\n",
            "Epoch 24/50\n",
            "12/12 [==============================] - 0s 7ms/step - loss: 99.4822 - val_loss: 85.9630\n",
            "Epoch 25/50\n",
            "12/12 [==============================] - 0s 9ms/step - loss: 99.4825 - val_loss: 85.9628\n",
            "Epoch 26/50\n",
            "12/12 [==============================] - 0s 10ms/step - loss: 99.4818 - val_loss: 85.9632\n",
            "Epoch 27/50\n",
            "12/12 [==============================] - 0s 9ms/step - loss: 99.4816 - val_loss: 85.9624\n",
            "Epoch 28/50\n",
            "12/12 [==============================] - 0s 7ms/step - loss: 99.4812 - val_loss: 85.9624\n",
            "Epoch 29/50\n",
            "12/12 [==============================] - 0s 10ms/step - loss: 99.4809 - val_loss: 85.9619\n",
            "Epoch 30/50\n",
            "12/12 [==============================] - 0s 7ms/step - loss: 99.4803 - val_loss: 85.9613\n",
            "Epoch 31/50\n",
            "12/12 [==============================] - 0s 9ms/step - loss: 99.4797 - val_loss: 85.9606\n",
            "Epoch 32/50\n",
            "12/12 [==============================] - 0s 8ms/step - loss: 99.4788 - val_loss: 85.9599\n",
            "Epoch 33/50\n",
            "12/12 [==============================] - 0s 9ms/step - loss: 99.4767 - val_loss: 85.9573\n",
            "Epoch 34/50\n",
            "12/12 [==============================] - 0s 8ms/step - loss: 99.4722 - val_loss: 85.9494\n",
            "Epoch 35/50\n",
            "12/12 [==============================] - 0s 9ms/step - loss: 99.4638 - val_loss: 85.9407\n",
            "Epoch 36/50\n",
            "12/12 [==============================] - 0s 9ms/step - loss: 99.4454 - val_loss: 85.9238\n",
            "Epoch 37/50\n",
            "12/12 [==============================] - 0s 9ms/step - loss: 99.4349 - val_loss: 85.9230\n",
            "Epoch 38/50\n",
            "12/12 [==============================] - 0s 7ms/step - loss: 99.4330 - val_loss: 85.9201\n",
            "Epoch 39/50\n",
            "12/12 [==============================] - 0s 8ms/step - loss: 99.4326 - val_loss: 85.9202\n",
            "Epoch 40/50\n",
            "12/12 [==============================] - 0s 9ms/step - loss: 99.4327 - val_loss: 85.9217\n",
            "Epoch 41/50\n",
            "12/12 [==============================] - 0s 8ms/step - loss: 99.4320 - val_loss: 85.9195\n",
            "Epoch 42/50\n",
            "12/12 [==============================] - 0s 10ms/step - loss: 99.4325 - val_loss: 85.9217\n",
            "Epoch 43/50\n",
            "12/12 [==============================] - 0s 10ms/step - loss: 99.4323 - val_loss: 85.9195\n",
            "Epoch 44/50\n",
            "12/12 [==============================] - 0s 9ms/step - loss: 99.4324 - val_loss: 85.9214\n",
            "Epoch 45/50\n",
            "12/12 [==============================] - 0s 10ms/step - loss: 99.4318 - val_loss: 85.9195\n",
            "Epoch 46/50\n",
            "12/12 [==============================] - 0s 7ms/step - loss: 99.4317 - val_loss: 85.9226\n",
            "Epoch 47/50\n",
            "12/12 [==============================] - 0s 8ms/step - loss: 99.4330 - val_loss: 85.9202\n",
            "Epoch 48/50\n",
            "12/12 [==============================] - 0s 5ms/step - loss: 99.4318 - val_loss: 85.9192\n",
            "Epoch 49/50\n",
            "12/12 [==============================] - 0s 6ms/step - loss: 99.4314 - val_loss: 85.9189\n",
            "Epoch 50/50\n",
            "12/12 [==============================] - 0s 8ms/step - loss: 99.4312 - val_loss: 85.9198\n"
          ]
        }
      ]
    },
    {
      "cell_type": "code",
      "source": [
        "# Model untuk mendapatkan representasi latent\n",
        "encoder = Model(input_layer, latent)\n",
        "\n",
        "# Mendapatkan representasi latent dari data restoran\n",
        "restaurant_latent = encoder.predict(data[features].values)\n"
      ],
      "metadata": {
        "colab": {
          "base_uri": "https://localhost:8080/"
        },
        "id": "ZdZTTBd9MomW",
        "outputId": "092f932f-7fcf-4653-b54f-e66d60dfa907"
      },
      "execution_count": 11,
      "outputs": [
        {
          "output_type": "stream",
          "name": "stdout",
          "text": [
            "17/17 [==============================] - 0s 2ms/step\n"
          ]
        }
      ]
    },
    {
      "cell_type": "code",
      "source": [
        "from sklearn.metrics.pairwise import cosine_similarity\n",
        "\n",
        "# Hitung kemiripan antar restoran\n",
        "similarity_matrix = cosine_similarity(restaurant_latent)\n"
      ],
      "metadata": {
        "id": "0ZXivpY3MrqL"
      },
      "execution_count": 12,
      "outputs": []
    },
    {
      "cell_type": "code",
      "source": [
        "def get_similar_restaurants(restaurant_name, data, similarity_matrix, top_n=5):\n",
        "    # Cari indeks restoran berdasarkan nama\n",
        "    idx = data[data['Nama Resto'] == restaurant_name].index[0]\n",
        "\n",
        "    # Ambil skor kemiripan restoran tersebut dengan restoran lainnya\n",
        "    similarity_scores = list(enumerate(similarity_matrix[idx]))\n",
        "\n",
        "    # Urutkan berdasarkan skor kemiripan (skor tertinggi di atas)\n",
        "    similarity_scores = sorted(similarity_scores, key=lambda x: x[1], reverse=True)\n",
        "\n",
        "    # Ambil top_n restoran yang paling mirip (selain restoran itu sendiri)\n",
        "    similarity_scores = similarity_scores[1:top_n+1]\n",
        "\n",
        "    # Ambil indeks restoran yang paling mirip\n",
        "    similar_restaurant_indices = [i[0] for i in similarity_scores]\n",
        "\n",
        "    # Kembalikan data restoran yang mirip\n",
        "    return data.iloc[similar_restaurant_indices]\n",
        "\n",
        "# Contoh penggunaan\n",
        "similar_restaurants = get_similar_restaurants('BRAUD', data, similarity_matrix)\n",
        "print(similar_restaurants)\n"
      ],
      "metadata": {
        "colab": {
          "base_uri": "https://localhost:8080/"
        },
        "id": "LwBpIUvEMuMt",
        "outputId": "23c1b029-fb0b-4dbc-c065-d348fcf2a316"
      },
      "execution_count": 14,
      "outputs": [
        {
          "output_type": "stream",
          "name": "stdout",
          "text": [
            "                                   Nama Resto  \\\n",
            "210                        Paul Pacific Place   \n",
            "212         Ann's Bakehouse & Creamery Sambas   \n",
            "226                        Sophie Authentique   \n",
            "76   Majestyk Bakery & Cake Shop Pondok Bambu   \n",
            "77                Holland Bakery Pondok Bambu   \n",
            "\n",
            "                                                alamat  daerah  \\\n",
            "210  Pacific Place Mall, Lantai Ground, South Lobby...       2   \n",
            "212  Jl. Sungai Sambas 3 No.12, RT.8/RW.5, Kramat P...       2   \n",
            "226  Jl. Kemang Raya No.55 4, RT.4/RW.2, Bangka, Ke...       2   \n",
            "76   Jl. Pahlawan Revolusi No.3, RT.1/RW.7, Pd. Bam...       3   \n",
            "77   Jl. Pahlawan Revolusi No.10 2, RT.2/RW.5, Pd. ...       3   \n",
            "\n",
            "          buka_tutup     jam_buka jam_tutup  harga_semua  harga_awal  \\\n",
            "210  06.30  -  22.00  06:30:00 AM     22.00            5      100000   \n",
            "212  08.00  -  21.00  08:00:00 AM     21.00            5      100000   \n",
            "226  08.00  -  17.00  08:00:00 AM     17.00            5      100000   \n",
            "76   07.00  -  21.00  07:00:00 AM     21.00            5      100000   \n",
            "77   07.00  -  21.00  07:00:00 AM     21.00            5      100000   \n",
            "\n",
            "     harga_akhir  rata_rata    rating       telepon  tipe  Unnamed: 13  \\\n",
            "210     200000.0     150000  0.722222  2.157973e+09     0          NaN   \n",
            "212     200000.0     150000  0.722222  2.127517e+09     0          NaN   \n",
            "226     200000.0     150000  0.666667  2.122717e+09     0          NaN   \n",
            "76      200000.0     150000  0.666667  2.186610e+09     0          NaN   \n",
            "77      200000.0     150000  0.833333  2.122867e+09     0          NaN   \n",
            "\n",
            "    Unnamed: 14  \n",
            "210         NaN  \n",
            "212         NaN  \n",
            "226         NaN  \n",
            "76          NaN  \n",
            "77          NaN  \n"
          ]
        }
      ]
    },
    {
      "cell_type": "code",
      "source": [
        "# Decode categorical columns\n",
        "for col in ['harga_semua', 'tipe', 'daerah']:\n",
        "    le = label_encoders[col]\n",
        "    try:\n",
        "        similar_restaurants[col] = le.inverse_transform(similar_restaurants[col])\n",
        "    except ValueError as e:\n",
        "        print(f\"Error: {e}\")\n",
        "        print(f\"Handling unseen labels for column {col}\")\n",
        "        # Handle unseen labels\n",
        "        unseen_mask = ~similar_restaurants[col].isin(le.classes_)\n",
        "        similar_restaurants.loc[unseen_mask, col] = 'Unknown'\n",
        "\n",
        "# Print recommendations\n",
        "print(similar_restaurants)"
      ],
      "metadata": {
        "colab": {
          "base_uri": "https://localhost:8080/"
        },
        "id": "xGD_qv6PPD-t",
        "outputId": "aff4b5a3-347c-45a4-c871-baafcab125b8"
      },
      "execution_count": 15,
      "outputs": [
        {
          "output_type": "stream",
          "name": "stdout",
          "text": [
            "                                   Nama Resto  \\\n",
            "210                        Paul Pacific Place   \n",
            "212         Ann's Bakehouse & Creamery Sambas   \n",
            "226                        Sophie Authentique   \n",
            "76   Majestyk Bakery & Cake Shop Pondok Bambu   \n",
            "77                Holland Bakery Pondok Bambu   \n",
            "\n",
            "                                                alamat           daerah  \\\n",
            "210  Pacific Place Mall, Lantai Ground, South Lobby...  Jakarta Selatan   \n",
            "212  Jl. Sungai Sambas 3 No.12, RT.8/RW.5, Kramat P...  Jakarta Selatan   \n",
            "226  Jl. Kemang Raya No.55 4, RT.4/RW.2, Bangka, Ke...  Jakarta Selatan   \n",
            "76   Jl. Pahlawan Revolusi No.3, RT.1/RW.7, Pd. Bam...    Jakarta Timur   \n",
            "77   Jl. Pahlawan Revolusi No.10 2, RT.2/RW.5, Pd. ...    Jakarta Timur   \n",
            "\n",
            "          buka_tutup     jam_buka jam_tutup          harga_semua  harga_awal  \\\n",
            "210  06.30  -  22.00  06:30:00 AM     22.00  100.000  -  200.000      100000   \n",
            "212  08.00  -  21.00  08:00:00 AM     21.00  100.000  -  200.000      100000   \n",
            "226  08.00  -  17.00  08:00:00 AM     17.00  100.000  -  200.000      100000   \n",
            "76   07.00  -  21.00  07:00:00 AM     21.00  100.000  -  200.000      100000   \n",
            "77   07.00  -  21.00  07:00:00 AM     21.00  100.000  -  200.000      100000   \n",
            "\n",
            "     harga_akhir  rata_rata    rating       telepon    tipe  Unnamed: 13  \\\n",
            "210     200000.0     150000  0.722222  2.157973e+09  Bakery          NaN   \n",
            "212     200000.0     150000  0.722222  2.127517e+09  Bakery          NaN   \n",
            "226     200000.0     150000  0.666667  2.122717e+09  Bakery          NaN   \n",
            "76      200000.0     150000  0.666667  2.186610e+09  Bakery          NaN   \n",
            "77      200000.0     150000  0.833333  2.122867e+09  Bakery          NaN   \n",
            "\n",
            "    Unnamed: 14  \n",
            "210         NaN  \n",
            "212         NaN  \n",
            "226         NaN  \n",
            "76          NaN  \n",
            "77          NaN  \n"
          ]
        },
        {
          "output_type": "stream",
          "name": "stderr",
          "text": [
            "<ipython-input-15-29b5000b352c>:5: SettingWithCopyWarning: \n",
            "A value is trying to be set on a copy of a slice from a DataFrame.\n",
            "Try using .loc[row_indexer,col_indexer] = value instead\n",
            "\n",
            "See the caveats in the documentation: https://pandas.pydata.org/pandas-docs/stable/user_guide/indexing.html#returning-a-view-versus-a-copy\n",
            "  similar_restaurants[col] = le.inverse_transform(similar_restaurants[col])\n",
            "<ipython-input-15-29b5000b352c>:5: SettingWithCopyWarning: \n",
            "A value is trying to be set on a copy of a slice from a DataFrame.\n",
            "Try using .loc[row_indexer,col_indexer] = value instead\n",
            "\n",
            "See the caveats in the documentation: https://pandas.pydata.org/pandas-docs/stable/user_guide/indexing.html#returning-a-view-versus-a-copy\n",
            "  similar_restaurants[col] = le.inverse_transform(similar_restaurants[col])\n",
            "<ipython-input-15-29b5000b352c>:5: SettingWithCopyWarning: \n",
            "A value is trying to be set on a copy of a slice from a DataFrame.\n",
            "Try using .loc[row_indexer,col_indexer] = value instead\n",
            "\n",
            "See the caveats in the documentation: https://pandas.pydata.org/pandas-docs/stable/user_guide/indexing.html#returning-a-view-versus-a-copy\n",
            "  similar_restaurants[col] = le.inverse_transform(similar_restaurants[col])\n"
          ]
        }
      ]
    }
  ]
}