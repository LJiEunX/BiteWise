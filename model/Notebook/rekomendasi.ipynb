{
  "nbformat": 4,
  "nbformat_minor": 0,
  "metadata": {
    "colab": {
      "provenance": []
    },
    "kernelspec": {
      "name": "python3",
      "display_name": "Python 3"
    },
    "language_info": {
      "name": "python"
    }
  },
  "cells": [
    {
      "cell_type": "code",
      "execution_count": 43,
      "metadata": {
        "colab": {
          "base_uri": "https://localhost:8080/"
        },
        "id": "eMJ4FwuKNlZ_",
        "outputId": "580ffde0-8244-4b4f-9ff5-0fc01f05abb5"
      },
      "outputs": [
        {
          "output_type": "stream",
          "name": "stdout",
          "text": [
            "Epoch 1/10\n",
            "25/25 [==============================] - 1s 2ms/step - loss: 0.5991 - accuracy: 0.9488\n",
            "Epoch 2/10\n",
            "25/25 [==============================] - 0s 2ms/step - loss: 0.2931 - accuracy: 1.0000\n",
            "Epoch 3/10\n",
            "25/25 [==============================] - 0s 3ms/step - loss: 0.0516 - accuracy: 1.0000\n",
            "Epoch 4/10\n",
            "25/25 [==============================] - 0s 2ms/step - loss: 0.0096 - accuracy: 1.0000\n",
            "Epoch 5/10\n",
            "25/25 [==============================] - 0s 2ms/step - loss: 0.0042 - accuracy: 1.0000\n",
            "Epoch 6/10\n",
            "25/25 [==============================] - 0s 2ms/step - loss: 0.0026 - accuracy: 1.0000\n",
            "Epoch 7/10\n",
            "25/25 [==============================] - 0s 2ms/step - loss: 0.0018 - accuracy: 1.0000\n",
            "Epoch 8/10\n",
            "25/25 [==============================] - 0s 2ms/step - loss: 0.0013 - accuracy: 1.0000\n",
            "Epoch 9/10\n",
            "25/25 [==============================] - 0s 3ms/step - loss: 9.9936e-04 - accuracy: 1.0000\n",
            "Epoch 10/10\n",
            "25/25 [==============================] - 0s 3ms/step - loss: 7.9022e-04 - accuracy: 1.0000\n"
          ]
        },
        {
          "output_type": "stream",
          "name": "stderr",
          "text": [
            "/usr/local/lib/python3.10/dist-packages/keras/src/engine/training.py:3103: UserWarning: You are saving your model as an HDF5 file via `model.save()`. This file format is considered legacy. We recommend using instead the native Keras format, e.g. `model.save('my_model.keras')`.\n",
            "  saving_api.save_model(\n"
          ]
        }
      ],
      "source": [
        "import pandas as pd\n",
        "import numpy as np\n",
        "import tensorflow as tf\n",
        "from sklearn.model_selection import train_test_split\n",
        "\n",
        "# Load dataset\n",
        "dataset = pd.read_csv('/content/capsfinal.csv')\n",
        "\n",
        "# Preprocessing\n",
        "# Encode categorical features\n",
        "restaurant_ids = dataset['Nama Resto'].astype('category').cat.codes.values\n",
        "region_ids = dataset['daerah'].astype('category').cat.codes.values\n",
        "menu_ids = dataset['menu'].astype('category').cat.codes.values\n",
        "\n",
        "# Example of generating user interaction data (clicks)\n",
        "user_clicks = np.random.randint(0, len(np.unique(restaurant_ids)), size=(1000,))\n",
        "user_regions = np.random.randint(0, len(np.unique(region_ids)), size=(1000,))\n",
        "\n",
        "# Split data into train and test sets\n",
        "train_data, test_data = train_test_split(np.column_stack([user_clicks, user_regions]), test_size=0.2, random_state=42)\n",
        "\n",
        "# Model\n",
        "num_restaurants = len(np.unique(restaurant_ids))\n",
        "num_regions = len(np.unique(region_ids))\n",
        "\n",
        "restaurant_input = tf.keras.layers.Input(shape=(1,), name='restaurant_input', dtype='int32')\n",
        "region_input = tf.keras.layers.Input(shape=(1,), name='region_input', dtype='int32')\n",
        "\n",
        "restaurant_embedding = tf.keras.layers.Embedding(input_dim=num_restaurants, output_dim=50, name='restaurant_embedding')(restaurant_input)\n",
        "region_embedding = tf.keras.layers.Embedding(input_dim=num_regions, output_dim=50, name='region_embedding')(region_input)\n",
        "\n",
        "concat_embeddings = tf.keras.layers.Concatenate()([restaurant_embedding, region_embedding])\n",
        "flatten_embeddings = tf.keras.layers.Flatten()(concat_embeddings)\n",
        "\n",
        "dense_layer = tf.keras.layers.Dense(128, activation='relu')(flatten_embeddings)\n",
        "output_layer = tf.keras.layers.Dense(1, activation='sigmoid')(dense_layer)\n",
        "\n",
        "model = tf.keras.models.Model(inputs=[restaurant_input, region_input], outputs=output_layer)\n",
        "\n",
        "model.compile(optimizer='adam', loss='binary_crossentropy', metrics=['accuracy'])\n",
        "\n",
        "# Train the model\n",
        "model.fit([train_data[:, 0], train_data[:, 1]], np.ones(train_data.shape[0]), epochs=10, batch_size=32)\n",
        "\n",
        "# Save the model\n",
        "model.save('rekomendasi.h5')\n"
      ]
    },
    {
      "cell_type": "code",
      "source": [
        "import pandas as pd\n",
        "import numpy as np\n",
        "import tensorflow as tf\n",
        "\n",
        "# Load dataset\n",
        "dataset = pd.read_csv('/content/capsfinal.csv')\n",
        "\n",
        "# Check columns in dataset\n",
        "print(dataset.columns)\n",
        "\n",
        "# Encode categorical features\n",
        "dataset['restaurant_id'] = dataset['Nama Resto'].astype('category').cat.codes\n",
        "dataset['region_id'] = dataset['daerah'].astype('category').cat.codes\n",
        "\n",
        "# Load the trained model\n",
        "model = tf.keras.models.load_model('/content/restaurant_recommendation_model.h5')\n",
        "\n",
        "# Function to recommend restaurants\n",
        "def recommend_restaurants(clicked_restaurant_id, clicked_region_id, top_n=5):\n",
        "    # Prepare input data for the model\n",
        "    restaurant_ids = np.array([clicked_restaurant_id] * len(dataset))\n",
        "    region_ids = np.array([clicked_region_id] * len(dataset))\n",
        "\n",
        "    # Get prediction scores from the model\n",
        "    predictions = model.predict([restaurant_ids, region_ids]).flatten()\n",
        "\n",
        "    # Get the top N recommendations\n",
        "    top_indices = predictions.argsort()[-top_n:][::-1]\n",
        "\n",
        "    # Get the recommended restaurants' details\n",
        "    recommended_restaurants = dataset.iloc[top_indices]\n",
        "    return recommended_restaurants[['Nama Resto', 'alamat', 'daerah', 'rating', 'menu', 'review ']]\n",
        "\n",
        "# Example user input\n",
        "clicked_restaurant_id = 2 # Example restaurant ID (you can change it based on actual IDs)\n",
        "clicked_region_id = 1  # Example region ID (you can change it based on actual IDs)\n",
        "\n",
        "# Get recommendations\n",
        "recommended_restaurants = recommend_restaurants(clicked_restaurant_id, clicked_region_id)\n",
        "\n",
        "# Display recommendations\n",
        "print(recommended_restaurants)\n"
      ],
      "metadata": {
        "colab": {
          "base_uri": "https://localhost:8080/"
        },
        "id": "fyzZC9fuYEKw",
        "outputId": "f2fc3d88-b583-469a-86cb-578fdb5b0145"
      },
      "execution_count": 44,
      "outputs": [
        {
          "output_type": "stream",
          "name": "stdout",
          "text": [
            "Index(['Nama Resto', 'alamat', 'daerah', 'buka_tutup', 'jam_buka', 'jam_tutup',\n",
            "       'harga_semua', 'harga_awal', 'harga_akhir', 'rata_rata', 'rating',\n",
            "       'telepon', 'tipe', 'menu', 'review '],\n",
            "      dtype='object')\n",
            "17/17 [==============================] - 0s 2ms/step\n",
            "                              Nama Resto  \\\n",
            "538                Kopi@Kopi Ground Zero   \n",
            "184        Martabak pecenongan 78 cawang   \n",
            "170  TOUS les JOURS  -  Cibubur Junction   \n",
            "171           Burger King Cibubur Square   \n",
            "172                      Javakarta Resto   \n",
            "\n",
            "                                                alamat         daerah  rating  \\\n",
            "538  Komplek Ruko Bukit Gading Indah, Blok Q No. 35...  Jakarta Utara     4.3   \n",
            "184  Jl. Dewi Sartika No.21, RT.5/RW.12, Cawang, Ke...  Jakarta Timur     4.5   \n",
            "170  JVJV+6MC, Jagorawi Toll Rd, RT.8/RW.7, Cibubur...  Jakarta Timur     3.8   \n",
            "171  Jagorawi Toll Rd Jl. Rest Area KM X No.5, RT.7...  Jakarta Timur     4.5   \n",
            "172  Javakarta Resto, Jl. Jambore No.6, RT.3/RW.13,...  Jakarta Timur     4.5   \n",
            "\n",
            "                                                  menu  \\\n",
            "538   Espresso, Latte, Cappuccino, Croissant, Sandwich   \n",
            "184  Martabak Manis, Martabak Telur, Martabak Cokla...   \n",
            "170                         baguette, croissant, donut   \n",
            "171  Whopper, Chicken Burger, French Fries, Soft Drink   \n",
            "172   Nasi Goreng, Mie Goreng, Sate Ayam, Sate Kambing   \n",
            "\n",
            "                                               review   \n",
            "538  Kopi aku kali ini dari kopi et kopi, coffee sh...  \n",
            "184  Martabak manisnya rasanya lumayan & toppingnya...  \n",
            "170  Devinisi pelayanan prima..terkoreksi rasanya a...  \n",
            "171  Selalu mampir ke drive thru BK di rest area Ci...  \n",
            "172  Makan disini sangat nyaman karena tempat nya y...  \n"
          ]
        }
      ]
    },
    {
      "cell_type": "code",
      "source": [],
      "metadata": {
        "id": "G-8UAvNvYlnR"
      },
      "execution_count": null,
      "outputs": []
    }
  ]
}